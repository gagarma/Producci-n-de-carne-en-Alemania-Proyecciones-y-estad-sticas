{
  "nbformat": 4,
  "nbformat_minor": 0,
  "metadata": {
    "colab": {
      "provenance": [],
      "authorship_tag": "ABX9TyPf7rKId494GShn53yjXO+r",
      "include_colab_link": true
    },
    "kernelspec": {
      "name": "python3",
      "display_name": "Python 3"
    },
    "language_info": {
      "name": "python"
    }
  },
  "cells": [
    {
      "cell_type": "markdown",
      "metadata": {
        "id": "view-in-github",
        "colab_type": "text"
      },
      "source": [
        "<a href=\"https://colab.research.google.com/github/gagarma/Producci-n-de-carne-en-Alemania-Proyecciones-y-estad-sticas/blob/main/Proyecci%C3%B3n_de_producci%C3%B3n_de_carne_en_Alemania.ipynb\" target=\"_parent\"><img src=\"https://colab.research.google.com/assets/colab-badge.svg\" alt=\"Open In Colab\"/></a>"
      ]
    },
    {
      "cell_type": "markdown",
      "source": [
        "### PRODUCCIÓN DE CARNE EN ALEMANIA: PROYECCIÓN Y ESTADISTICAS\n",
        "GUSTAVO GARMA\n",
        "\n",
        "Una estimación de los 3 principales productos del mercado de Carne."
      ],
      "metadata": {
        "id": "1mT_qRxPhzIg"
      }
    },
    {
      "cell_type": "code",
      "execution_count": 1,
      "metadata": {
        "colab": {
          "base_uri": "https://localhost:8080/"
        },
        "id": "dyJbtYTThpHA",
        "outputId": "7306ee41-e205-4202-d779-b08ddd884d83"
      },
      "outputs": [
        {
          "output_type": "stream",
          "name": "stdout",
          "text": [
            "Mounted at /content/drive\n"
          ]
        }
      ],
      "source": [
        "from google.colab import drive\n",
        "drive.mount('/content/drive')"
      ]
    },
    {
      "cell_type": "code",
      "source": [
        "import pandas as pd\n",
        "import numpy as np\n",
        "import matplotlib.pyplot as plt\n",
        "import plotly.express as px"
      ],
      "metadata": {
        "id": "y3ogqh_uiIQ-"
      },
      "execution_count": 2,
      "outputs": []
    },
    {
      "cell_type": "code",
      "source": [],
      "metadata": {
        "id": "tz3hhUlIiR07"
      },
      "execution_count": null,
      "outputs": []
    }
  ]
}